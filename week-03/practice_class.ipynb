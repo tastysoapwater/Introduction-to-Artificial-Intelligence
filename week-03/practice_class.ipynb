{
 "cells": [
  {
   "cell_type": "code",
   "execution_count": 1,
   "id": "9b321f8f-6fd0-46ea-96d5-03eda09d2d92",
   "metadata": {},
   "outputs": [],
   "source": [
    "import pandas as pd\n",
    "import numpy as np\n",
    "import matplotlib.pyplot as plt\n",
    "import seaborn as sns\n",
    "from sklearn.model_selection import train_test_split\n",
    "from sklearn.preprocessing import LabelEncoder\n",
    "from sklearn.impute import SimpleImputer\n",
    "from sklearn.ensemble import RandomForestClassifier\n",
    "from sklearn.tree import DecisionTreeClassifier\n",
    "from sklearn.linear_model import LogisticRegression\n",
    "from sklearn.neighbors import KNeighborsClassifier\n",
    "from sklearn.svm import SVC\n",
    "from sklearn.metrics import accuracy_score, confusion_matrix\n",
    "\n",
    "\n",
    "# 데이터 로드\n",
    "df = pd.read_csv(\"C:/Users/tisxo/Downloads/car_evaluation.csv\")\n"
   ]
  },
  {
   "cell_type": "code",
   "execution_count": 7,
   "id": "22593fec-df2d-42f7-8dc7-214df08e7a5f",
   "metadata": {},
   "outputs": [
    {
     "name": "stdout",
     "output_type": "stream",
     "text": [
      "      vhigh vhigh.1      2   2.1  small   low  unacc\n",
      "0     vhigh   vhigh      2     2  small   med  unacc\n",
      "1     vhigh   vhigh      2     2  small  high  unacc\n",
      "2     vhigh   vhigh      2     2    med   low  unacc\n",
      "3     vhigh   vhigh      2     2    med   med  unacc\n",
      "4     vhigh   vhigh      2     2    med  high  unacc\n",
      "...     ...     ...    ...   ...    ...   ...    ...\n",
      "1722    low     low  5more  more    med   med   good\n",
      "1723    low     low  5more  more    med  high  vgood\n",
      "1724    low     low  5more  more    big   low  unacc\n",
      "1725    low     low  5more  more    big   med   good\n",
      "1726    low     low  5more  more    big  high  vgood\n",
      "\n",
      "[1727 rows x 7 columns]\n",
      "컬럼 확인: Index(['vhigh', 'vhigh.1', '2', '2.1', 'small', 'low', 'unacc'], dtype='object')\n"
     ]
    }
   ],
   "source": [
    "# 데이터 확인\n",
    "print(df)\n",
    "print(\"컬럼 확인:\", df.columns)"
   ]
  },
  {
   "cell_type": "code",
   "execution_count": 3,
   "id": "2b6c0f5b-7401-4c26-9c5a-ba8e2d4569f6",
   "metadata": {},
   "outputs": [
    {
     "name": "stdout",
     "output_type": "stream",
     "text": [
      "결측치 확인 (제거 전):\n",
      "vhigh      0\n",
      "vhigh.1    0\n",
      "2          0\n",
      "2.1        0\n",
      "small      0\n",
      "low        0\n",
      "unacc      0\n",
      "dtype: int64\n"
     ]
    }
   ],
   "source": [
    "# 결측치 확인\n",
    "print(\"결측치 확인 (제거 전):\")\n",
    "print(df.isnull().sum())"
   ]
  },
  {
   "cell_type": "code",
   "execution_count": 9,
   "id": "13d2ca9e-02b9-49e7-aa1c-24dc88793328",
   "metadata": {},
   "outputs": [],
   "source": [
    "# 결측치 처리\n",
    "df = df.dropna()"
   ]
  },
  {
   "cell_type": "code",
   "execution_count": 11,
   "id": "3060e570-539d-4042-a7d9-0c44718f293c",
   "metadata": {},
   "outputs": [
    {
     "name": "stdout",
     "output_type": "stream",
     "text": [
      "결측치 확인 (제거 후):\n",
      "vhigh      0\n",
      "vhigh.1    0\n",
      "2          0\n",
      "2.1        0\n",
      "small      0\n",
      "low        0\n",
      "unacc      0\n",
      "dtype: int64\n"
     ]
    }
   ],
   "source": [
    "print(\"결측치 확인 (제거 후):\")\n",
    "print(df.isnull().sum())"
   ]
  },
  {
   "cell_type": "code",
   "execution_count": 13,
   "id": "e6e486d0-0d90-443e-9c3d-988ac83eb2d8",
   "metadata": {},
   "outputs": [
    {
     "name": "stdout",
     "output_type": "stream",
     "text": [
      "unacc\n",
      "unacc    1209\n",
      "acc       384\n",
      "good       69\n",
      "vgood      65\n",
      "Name: count, dtype: int64\n"
     ]
    }
   ],
   "source": [
    "# 레이블 확인 (imbalanced data)\n",
    "print(df['unacc'].value_counts())"
   ]
  },
  {
   "cell_type": "code",
   "execution_count": 15,
   "id": "7dfe1889-7667-4804-82e6-c7fd41c1e37e",
   "metadata": {},
   "outputs": [
    {
     "data": {
      "text/plain": [
       "Text(0.5, 1.0, 'Label Distribution')"
      ]
     },
     "execution_count": 15,
     "metadata": {},
     "output_type": "execute_result"
    },
    {
     "data": {
      "image/png": "[encoded data removed]",
      "text/plain": [
       "<Figure size 600x400 with 1 Axes>"
      ]
     },
     "metadata": {},
     "output_type": "display_data"
    }
   ],
   "source": [
    "# 레이블 분포 시각화\n",
    "plt.figure(figsize=(6, 4))\n",
    "sns.countplot(data=df, x='unacc')  # survived 레이블 분포\n",
    "plt.xlabel(\"Survived (0: No, 1: Yes)\")\n",
    "plt.ylabel(\"Count\")\n",
    "plt.title(\"Label Distribution\")"
   ]
  },
  {
   "cell_type": "code",
   "execution_count": 23,
   "id": "85ba82e5-7605-4703-a2a2-6f5548be750d",
   "metadata": {},
   "outputs": [
    {
     "data": {
      "text/html": [
       "<div>\n",
       "<style scoped>\n",
       "    .dataframe tbody tr th:only-of-type {\n",
       "        vertical-align: middle;\n",
       "    }\n",
       "\n",
       "    .dataframe tbody tr th {\n",
       "        vertical-align: top;\n",
       "    }\n",
       "\n",
       "    .dataframe thead th {\n",
       "        text-align: right;\n",
       "    }\n",
       "</style>\n",
       "<table border=\"1\" class=\"dataframe\">\n",
       "  <thead>\n",
       "    <tr style=\"text-align: right;\">\n",
       "      <th></th>\n",
       "      <th>vhigh</th>\n",
       "      <th>vhigh.1</th>\n",
       "      <th>2</th>\n",
       "      <th>2.1</th>\n",
       "      <th>small</th>\n",
       "      <th>low</th>\n",
       "      <th>unacc</th>\n",
       "    </tr>\n",
       "  </thead>\n",
       "  <tbody>\n",
       "    <tr>\n",
       "      <th>0</th>\n",
       "      <td>3</td>\n",
       "      <td>3</td>\n",
       "      <td>0</td>\n",
       "      <td>0</td>\n",
       "      <td>2</td>\n",
       "      <td>2</td>\n",
       "      <td>2</td>\n",
       "    </tr>\n",
       "    <tr>\n",
       "      <th>1</th>\n",
       "      <td>3</td>\n",
       "      <td>3</td>\n",
       "      <td>0</td>\n",
       "      <td>0</td>\n",
       "      <td>2</td>\n",
       "      <td>0</td>\n",
       "      <td>2</td>\n",
       "    </tr>\n",
       "    <tr>\n",
       "      <th>2</th>\n",
       "      <td>3</td>\n",
       "      <td>3</td>\n",
       "      <td>0</td>\n",
       "      <td>0</td>\n",
       "      <td>1</td>\n",
       "      <td>1</td>\n",
       "      <td>2</td>\n",
       "    </tr>\n",
       "    <tr>\n",
       "      <th>3</th>\n",
       "      <td>3</td>\n",
       "      <td>3</td>\n",
       "      <td>0</td>\n",
       "      <td>0</td>\n",
       "      <td>1</td>\n",
       "      <td>2</td>\n",
       "      <td>2</td>\n",
       "    </tr>\n",
       "    <tr>\n",
       "      <th>4</th>\n",
       "      <td>3</td>\n",
       "      <td>3</td>\n",
       "      <td>0</td>\n",
       "      <td>0</td>\n",
       "      <td>1</td>\n",
       "      <td>0</td>\n",
       "      <td>2</td>\n",
       "    </tr>\n",
       "  </tbody>\n",
       "</table>\n",
       "</div>"
      ],
      "text/plain": [
       "   vhigh  vhigh.1  2  2.1  small  low  unacc\n",
       "0      3        3  0    0      2    2      2\n",
       "1      3        3  0    0      2    0      2\n",
       "2      3        3  0    0      1    1      2\n",
       "3      3        3  0    0      1    2      2\n",
       "4      3        3  0    0      1    0      2"
      ]
     },
     "execution_count": 23,
     "metadata": {},
     "output_type": "execute_result"
    }
   ],
   "source": [
    "# 모든 컬럼을 Label Encoding\n",
    "label_encoders = {}\n",
    "for col in df.columns:\n",
    "    le = LabelEncoder()\n",
    "    df[col] = le.fit_transform(df[col])\n",
    "    label_encoders[col] = le  # 인코더 저장 (역변환용)\n",
    "\n",
    "\n",
    "# 변환된 데이터 확인\n",
    "df.head()"
   ]
  },
  {
   "cell_type": "code",
   "execution_count": 25,
   "id": "af75d7b8-9e0b-41c9-b485-9d3601ab831f",
   "metadata": {},
   "outputs": [],
   "source": [
    "# 데이터 분할\n",
    "X = df.drop('unacc', axis=1)\n",
    "y = df['unacc']\n",
    "X_train, X_test, y_train, y_test = train_test_split(X, y, test_size=0.2, random_state=42)"
   ]
  },
  {
   "cell_type": "code",
   "execution_count": 27,
   "id": "9fe07620-c506-4938-8acf-2005ca6860ef",
   "metadata": {},
   "outputs": [
    {
     "name": "stdout",
     "output_type": "stream",
     "text": [
      "\n",
      "--- SVM Classifier ---\n",
      "0.8988439306358381\n",
      "\n",
      "--- confusion_matrix ---\n",
      "[[ 61   0  16   0]\n",
      " [ 11   2   0   2]\n",
      " [  1   0 236   0]\n",
      " [  5   0   0  12]]\n"
     ]
    }
   ],
   "source": [
    "# SVM\n",
    "clf_svm = SVC(random_state=0)\n",
    "clf_svm.fit(X_train, y_train)\n",
    "\n",
    "pred_svm = clf_svm.predict(X_test)\n",
    "\n",
    "print(\"\\n--- SVM Classifier ---\")\n",
    "print(accuracy_score(y_test, pred_svm))\n",
    "print(\"\\n--- confusion_matrix ---\")\n",
    "print(confusion_matrix(y_test, pred_svm))"
   ]
  },
  {
   "cell_type": "code",
   "execution_count": 29,
   "id": "13e00ab1-aec4-46d4-83bb-dc4f97252602",
   "metadata": {},
   "outputs": [
    {
     "name": "stdout",
     "output_type": "stream",
     "text": [
      "\n",
      "--- Logistic Regression Classifier ---\n",
      "0.684971098265896\n",
      "\n",
      "--- confusion_matrix ---\n",
      "[[ 12   0  64   1]\n",
      " [  2   0  13   0]\n",
      " [ 13   0 224   0]\n",
      " [ 11   0   5   1]]\n"
     ]
    }
   ],
   "source": [
    "# LR\n",
    "clf_lr = LogisticRegression(random_state=0)\n",
    "clf_lr.fit(X_train, y_train)\n",
    "\n",
    "pred_lr = clf_lr.predict(X_test)\n",
    "\n",
    "print (\"\\n--- Logistic Regression Classifier ---\")\n",
    "print (accuracy_score(y_test, pred_lr))\n",
    "print(\"\\n--- confusion_matrix ---\")\n",
    "print (confusion_matrix(y_test, pred_lr))"
   ]
  },
  {
   "cell_type": "code",
   "execution_count": 31,
   "id": "fb74c908-0c79-4baf-a248-5a6326779915",
   "metadata": {},
   "outputs": [
    {
     "name": "stdout",
     "output_type": "stream",
     "text": [
      "\n",
      "--- Decision Tree Classifier ---\n",
      "0.9710982658959537\n",
      "\n",
      "--- confusion_matrix ---\n",
      "[[ 73   2   0   2]\n",
      " [  2  12   0   1]\n",
      " [  1   0 236   0]\n",
      " [  0   2   0  15]]\n"
     ]
    }
   ],
   "source": [
    "#DT\n",
    "clf_dt = DecisionTreeClassifier(random_state=0)\n",
    "clf_dt.fit(X_train, y_train)\n",
    "\n",
    "pred_dt = clf_dt.predict(X_test)\n",
    "\n",
    "print (\"\\n--- Decision Tree Classifier ---\")\n",
    "print (accuracy_score(y_test, pred_dt))\n",
    "print(\"\\n--- confusion_matrix ---\")\n",
    "print (confusion_matrix(y_test, pred_dt))"
   ]
  },
  {
   "cell_type": "code",
   "execution_count": 33,
   "id": "c5e01e18-aa93-462d-8f80-466ae0922f43",
   "metadata": {},
   "outputs": [
    {
     "name": "stdout",
     "output_type": "stream",
     "text": [
      "\n",
      "--- Radom Forest ---\n",
      "0.9595375722543352\n",
      "\n",
      "--- confusion_matrix ---\n",
      "[[ 73   1   2   1]\n",
      " [  3   9   0   3]\n",
      " [  2   0 235   0]\n",
      " [  2   0   0  15]]\n"
     ]
    }
   ],
   "source": [
    "# RF\n",
    "print (\"\\n--- Radom Forest ---\")\n",
    "rf_clf = RandomForestClassifier(random_state=0)\n",
    "rf_clf.fit(X_train, y_train)\n",
    "pred = rf_clf.predict(X_test)\n",
    "print(accuracy_score(y_test,pred))\n",
    "print(\"\\n--- confusion_matrix ---\")\n",
    "print (confusion_matrix(y_test, pred))"
   ]
  },
  {
   "cell_type": "code",
   "execution_count": 35,
   "id": "216cde74-c976-41d2-b699-d304d277734a",
   "metadata": {},
   "outputs": [
    {
     "name": "stdout",
     "output_type": "stream",
     "text": [
      "\n",
      "--- K-Nearest Neighbors Classifier ---\n",
      "0.8757225433526011\n",
      "\n",
      "--- confusion_matrix ---\n",
      "[[ 54   1  22   0]\n",
      " [ 12   2   1   0]\n",
      " [  0   0 237   0]\n",
      " [  6   0   1  10]]\n"
     ]
    }
   ],
   "source": [
    "# KNN\n",
    "clf_knn = KNeighborsClassifier()\n",
    "clf_knn.fit(X_train, y_train)\n",
    "pred_knn = clf_knn.predict(X_test)\n",
    "\n",
    "print(\"\\n--- K-Nearest Neighbors Classifier ---\")\n",
    "print(accuracy_score(y_test, pred_knn))\n",
    "print(\"\\n--- confusion_matrix ---\")\n",
    "print(confusion_matrix(y_test, pred_knn))"
   ]
  },
  {
   "cell_type": "code",
   "execution_count": null,
   "id": "77733882-de27-4d50-98e2-1bff63b61baa",
   "metadata": {},
   "outputs": [],
   "source": []
  }
 ],
 "metadata": {
  "kernelspec": {
   "display_name": "Python [conda env:base] *",
   "language": "python",
   "name": "conda-base-py"
  },
  "language_info": {
   "codemirror_mode": {
    "name": "ipython",
    "version": 3
   },
   "file_extension": ".py",
   "mimetype": "text/x-python",
   "name": "python",
   "nbconvert_exporter": "python",
   "pygments_lexer": "ipython3",
   "version": "3.12.7"
  }
 },
 "nbformat": 4,
 "nbformat_minor": 5
}
