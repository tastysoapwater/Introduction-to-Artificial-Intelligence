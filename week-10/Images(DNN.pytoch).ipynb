{
 "cells": [
  {
   "cell_type": "code",
   "execution_count": 83,
   "id": "a505f5c0-8b1e-4d4c-8d57-ae306bb62621",
   "metadata": {},
   "outputs": [],
   "source": [
    "import pandas as pd\n",
    "import numpy as np\n",
    "import torch\n",
    "import torch.nn as nn\n",
    "import torch.optim as optim\n",
    "from torch.utils.data import Dataset, DataLoader, TensorDataset\n",
    "from sklearn.preprocessing import LabelEncoder\n",
    "from sklearn.metrics import precision_score, recall_score, f1_score, roc_auc_score, confusion_matrix, ConfusionMatrixDisplay\n",
    "from sklearn.preprocessing import StandardScaler\n",
    "import matplotlib.pyplot as plt\n",
    "from torchsummary import summary"
   ]
  },
  {
   "cell_type": "markdown",
   "id": "6206be73-499b-483f-ba39-793089cc26a0",
   "metadata": {},
   "source": [
    "digits = datasets.load_digits()"
   ]
  },
  {
   "cell_type": "code",
   "execution_count": 84,
   "id": "03770bfc-a501-457d-9649-d9ee67c3c54c",
   "metadata": {},
   "outputs": [
    {
     "data": {
      "text/plain": [
       "<matplotlib.image.AxesImage at 0x1f50f952c50>"
      ]
     },
     "execution_count": 84,
     "metadata": {},
     "output_type": "execute_result"
    },
    {
     "data": {
      "image/png": "[encoded data removed]",
      "text/plain": [
       "<Figure size 640x480 with 1 Axes>"
      ]
     },
     "metadata": {},
     "output_type": "display_data"
    }
   ],
   "source": [
    "plt.imshow(digits.images[0], cmap=plt.cm.gray_r, interpolation='nearest')"
   ]
  },
  {
   "cell_type": "code",
   "execution_count": 85,
   "id": "b89b70b5-27fd-449b-a137-5672b6a710d7",
   "metadata": {},
   "outputs": [],
   "source": [
    "n_samples = len(digits.images)"
   ]
  },
  {
   "cell_type": "code",
   "execution_count": 86,
   "id": "4edfdc1e-5fb6-441e-b9e1-9d04c82f9dff",
   "metadata": {},
   "outputs": [],
   "source": [
    "X = digits.images.reshape((n_samples, -1))"
   ]
  },
  {
   "cell_type": "code",
   "execution_count": 87,
   "id": "e71b6909-5cad-4be6-81b5-2b67392e981a",
   "metadata": {},
   "outputs": [
    {
     "data": {
      "text/plain": [
       "(1797, 64)"
      ]
     },
     "execution_count": 87,
     "metadata": {},
     "output_type": "execute_result"
    }
   ],
   "source": [
    "X.shape"
   ]
  },
  {
   "cell_type": "code",
   "execution_count": 88,
   "id": "b5836890-bd97-4c8b-960e-a3c3ef49ce32",
   "metadata": {},
   "outputs": [],
   "source": [
    "y = digits.target"
   ]
  },
  {
   "cell_type": "code",
   "execution_count": 89,
   "id": "a7354511-fd19-4c11-b8f0-75c10425e7dd",
   "metadata": {},
   "outputs": [],
   "source": [
    "# 정규화\n",
    "scaler = StandardScaler()\n",
    "X = scaler.fit_transform(X)\n"
   ]
  },
  {
   "cell_type": "code",
   "execution_count": 90,
   "id": "f0291adf-4c6a-4175-bc4d-f3587bc0ffe4",
   "metadata": {},
   "outputs": [],
   "source": [
    "# 학습/테스트 분할\n",
    "X_train, X_test, y_train, y_test = train_test_split(X, y, test_size=0.2, random_state=0)"
   ]
  },
  {
   "cell_type": "code",
   "execution_count": 91,
   "id": "74eefcce-8603-4a7d-a90a-65f599e67465",
   "metadata": {},
   "outputs": [
    {
     "data": {
      "text/plain": [
       "((1437, 64), (360, 64), (1437,), (360,))"
      ]
     },
     "execution_count": 91,
     "metadata": {},
     "output_type": "execute_result"
    }
   ],
   "source": [
    "X_train.shape, X_test.shape, y_train.shape, y_test.shape"
   ]
  },
  {
   "cell_type": "code",
   "execution_count": 92,
   "id": "3390fd4a-f29b-45a0-8501-75d69415869b",
   "metadata": {},
   "outputs": [],
   "source": [
    "# Convert to PyTorch tensors\n",
    "X_train = torch.tensor(X_train, dtype=torch.float32)\n",
    "y_train = torch.tensor(y_train, dtype=torch.long)\n",
    "X_test = torch.tensor(X_test, dtype=torch.float32)\n",
    "y_test = torch.tensor(y_test, dtype=torch.long)"
   ]
  },
  {
   "cell_type": "code",
   "execution_count": 93,
   "id": "a0763264-6df5-41b6-b9f2-a5cb6f2b0e97",
   "metadata": {},
   "outputs": [],
   "source": [
    "# Create DataLoader\n",
    "train_dataset = TensorDataset(X_train, y_train)\n",
    "train_dataloader = DataLoader(train_dataset, batch_size=32, shuffle=True)\n",
    "\n",
    "test_dataset = TensorDataset(X_test, y_test)\n",
    "test_dataloader = DataLoader(test_dataset, batch_size=32, shuffle=False)"
   ]
  },
  {
   "cell_type": "code",
   "execution_count": 94,
   "id": "b4fbbbce-cf91-42fa-a5b3-11d3bf737a2a",
   "metadata": {},
   "outputs": [
    {
     "data": {
      "text/plain": [
       "(torch.Size([1437, 64]),\n",
       " torch.Size([360, 64]),\n",
       " torch.Size([1437]),\n",
       " torch.Size([360]))"
      ]
     },
     "execution_count": 94,
     "metadata": {},
     "output_type": "execute_result"
    }
   ],
   "source": [
    "X_train.shape, X_test.shape, y_train.shape, y_test.shape"
   ]
  },
  {
   "cell_type": "code",
   "execution_count": 95,
   "id": "92379c02-7fe8-41ce-b451-d92a7786e099",
   "metadata": {},
   "outputs": [],
   "source": [
    "# 모델 정의 (DNN)\n",
    "class DigitClassifier(nn.Module):\n",
    "    def __init__(self):\n",
    "        super(DigitClassifier, self).__init__()\n",
    "        self.fc1 = nn.Linear(64, 128)\n",
    "        self.fc2 = nn.Linear(128, 64)\n",
    "        self.fc3 = nn.Linear(64, 10)  # 클래스 수 = 10\n",
    "\n",
    "    def forward(self, x):\n",
    "        x = torch.relu(self.fc1(x))\n",
    "        x = torch.relu(self.fc2(x))\n",
    "        return self.fc3(x)"
   ]
  },
  {
   "cell_type": "code",
   "execution_count": 96,
   "id": "24e2503d-d5ee-4a44-a3ff-3cadf1cb38e9",
   "metadata": {},
   "outputs": [],
   "source": [
    "model = DigitClassifier()"
   ]
  },
  {
   "cell_type": "code",
   "execution_count": 97,
   "id": "56f61dc6-5770-4b0a-a2af-288ca5d9061c",
   "metadata": {},
   "outputs": [],
   "source": [
    "criterion = nn.CrossEntropyLoss()\n",
    "optimizer = optim.Adam(model.parameters(), lr=0.001)"
   ]
  },
  {
   "cell_type": "code",
   "execution_count": 98,
   "id": "9d1f62e2-6c15-444e-ab5c-7ef3bb914149",
   "metadata": {},
   "outputs": [
    {
     "name": "stdout",
     "output_type": "stream",
     "text": [
      "DigitClassifier(\n",
      "  (fc1): Linear(in_features=64, out_features=128, bias=True)\n",
      "  (fc2): Linear(in_features=128, out_features=64, bias=True)\n",
      "  (fc3): Linear(in_features=64, out_features=10, bias=True)\n",
      ")\n"
     ]
    }
   ],
   "source": [
    "print(model)"
   ]
  },
  {
   "cell_type": "code",
   "execution_count": 99,
   "id": "c1154d06-746c-4b80-9b5e-3e818c66bb68",
   "metadata": {},
   "outputs": [
    {
     "name": "stdout",
     "output_type": "stream",
     "text": [
      "Epoch 1/40, Loss: 1.7937, Accuracy: 76.39%\n",
      "Epoch 2/40, Loss: 0.5707, Accuracy: 93.61%\n",
      "Epoch 3/40, Loss: 0.2168, Accuracy: 94.72%\n",
      "Epoch 4/40, Loss: 0.1246, Accuracy: 96.67%\n",
      "Epoch 5/40, Loss: 0.0859, Accuracy: 97.22%\n",
      "Epoch 6/40, Loss: 0.0609, Accuracy: 97.22%\n",
      "Epoch 7/40, Loss: 0.0446, Accuracy: 96.94%\n",
      "Epoch 8/40, Loss: 0.0333, Accuracy: 97.78%\n",
      "Epoch 9/40, Loss: 0.0255, Accuracy: 96.94%\n",
      "Epoch 10/40, Loss: 0.0198, Accuracy: 97.78%\n",
      "Epoch 11/40, Loss: 0.0153, Accuracy: 97.50%\n",
      "Epoch 12/40, Loss: 0.0120, Accuracy: 97.50%\n",
      "Epoch 13/40, Loss: 0.0097, Accuracy: 97.50%\n",
      "Epoch 14/40, Loss: 0.0079, Accuracy: 97.50%\n",
      "Epoch 15/40, Loss: 0.0068, Accuracy: 97.50%\n",
      "Epoch 16/40, Loss: 0.0056, Accuracy: 97.50%\n",
      "Epoch 17/40, Loss: 0.0048, Accuracy: 97.78%\n",
      "Epoch 18/40, Loss: 0.0042, Accuracy: 97.50%\n",
      "Epoch 19/40, Loss: 0.0036, Accuracy: 97.50%\n",
      "Epoch 20/40, Loss: 0.0032, Accuracy: 97.50%\n",
      "Epoch 21/40, Loss: 0.0028, Accuracy: 97.50%\n",
      "Epoch 22/40, Loss: 0.0025, Accuracy: 97.50%\n",
      "Epoch 23/40, Loss: 0.0023, Accuracy: 97.50%\n",
      "Epoch 24/40, Loss: 0.0021, Accuracy: 97.50%\n",
      "Epoch 25/40, Loss: 0.0019, Accuracy: 97.78%\n",
      "Epoch 26/40, Loss: 0.0017, Accuracy: 97.50%\n",
      "Epoch 27/40, Loss: 0.0016, Accuracy: 97.78%\n",
      "Epoch 28/40, Loss: 0.0014, Accuracy: 97.50%\n",
      "Epoch 29/40, Loss: 0.0013, Accuracy: 97.50%\n",
      "Epoch 30/40, Loss: 0.0012, Accuracy: 97.78%\n",
      "Epoch 31/40, Loss: 0.0011, Accuracy: 97.78%\n",
      "Epoch 32/40, Loss: 0.0010, Accuracy: 98.06%\n",
      "Epoch 33/40, Loss: 0.0010, Accuracy: 97.78%\n",
      "Epoch 34/40, Loss: 0.0009, Accuracy: 97.78%\n",
      "Epoch 35/40, Loss: 0.0008, Accuracy: 97.78%\n",
      "Epoch 36/40, Loss: 0.0008, Accuracy: 97.78%\n",
      "Epoch 37/40, Loss: 0.0007, Accuracy: 97.78%\n",
      "Epoch 38/40, Loss: 0.0007, Accuracy: 97.78%\n",
      "Epoch 39/40, Loss: 0.0006, Accuracy: 98.06%\n",
      "Epoch 40/40, Loss: 0.0006, Accuracy: 97.78%\n",
      "Training complete.\n"
     ]
    }
   ],
   "source": [
    "# Variables to store loss and accuracy\n",
    "train_losses = []\n",
    "test_accuracies = []\n",
    "\n",
    "# Training loop\n",
    "num_epochs = 40\n",
    "for epoch in range(num_epochs):\n",
    "    model.train()\n",
    "    running_loss = 0.0\n",
    "    for inputs, labels in train_dataloader:\n",
    "        # Zero the parameter gradients\n",
    "        optimizer.zero_grad()\n",
    "\n",
    "        # Forward pass\n",
    "        outputs = model(inputs)\n",
    "        loss = criterion(outputs, labels)\n",
    "\n",
    "        # Backward pass and optimize\n",
    "        loss.backward()\n",
    "        optimizer.step()\n",
    "\n",
    "        running_loss += loss.item()\n",
    "\n",
    "    # Calculate average loss over an epoch\n",
    "    train_losses.append(running_loss / len(train_dataloader))\n",
    "\n",
    "    # Evaluate on test data\n",
    "    model.eval()\n",
    "    correct = 0\n",
    "    total = 0\n",
    "    with torch.no_grad():\n",
    "        for inputs, labels in test_dataloader:\n",
    "            outputs = model(inputs)\n",
    "            _, predicted = torch.max(outputs, 1)\n",
    "            total += labels.size(0)\n",
    "            correct += (predicted == labels).sum().item()\n",
    "\n",
    "    accuracy = 100 * correct / total\n",
    "    test_accuracies.append(accuracy)\n",
    "\n",
    "    print(f\"Epoch {epoch + 1}/{num_epochs}, Loss: {train_losses[-1]:.4f}, Accuracy: {accuracy:.2f}%\")\n",
    "\n",
    "print(\"Training complete.\")"
   ]
  },
  {
   "cell_type": "code",
   "execution_count": 100,
   "id": "cc18a5bf-a548-48f6-a65d-ba9e42f99724",
   "metadata": {},
   "outputs": [
    {
     "name": "stdout",
     "output_type": "stream",
     "text": [
      "Confusion Matrix:\n",
      "[[27  0  0  0  0  0  0  0  0  0]\n",
      " [ 0 33  0  0  0  0  0  0  2  0]\n",
      " [ 0  0 36  0  0  0  0  0  0  0]\n",
      " [ 0  0  0 29  0  0  0  0  0  0]\n",
      " [ 0  0  0  0 30  0  0  0  0  0]\n",
      " [ 0  0  0  0  0 39  0  0  0  1]\n",
      " [ 0  1  0  0  0  0 43  0  0  0]\n",
      " [ 0  0  0  0  1  0  0 38  0  0]\n",
      " [ 0  1  0  0  0  0  0  0 38  0]\n",
      " [ 0  0  0  0  0  1  0  1  0 39]]\n",
      "F1 Score: 0.98\n",
      "Precision: 0.98\n",
      "Recall: 0.98\n",
      "Specificity: 1.00\n"
     ]
    }
   ],
   "source": [
    "# Evaluation\n",
    "model.eval()\n",
    "all_labels = []\n",
    "all_predictions = []\n",
    "with torch.no_grad():\n",
    "    for inputs, labels in test_dataloader:\n",
    "        outputs = model(inputs)\n",
    "        _, predicted = torch.max(outputs.data, 1)\n",
    "        all_labels.extend(labels.cpu().numpy())\n",
    "        all_predictions.extend(predicted.cpu().numpy())\n",
    "\n",
    "# Convert to numpy arrays\n",
    "all_labels = np.array(all_labels)\n",
    "all_predictions = np.array(all_predictions)\n",
    "\n",
    "# Calculate metrics\n",
    "conf_matrix = confusion_matrix(all_labels, all_predictions)\n",
    "f1 = f1_score(all_labels, all_predictions, average='weighted')\n",
    "precision = precision_score(all_labels, all_predictions, average='weighted')\n",
    "recall = recall_score(all_labels, all_predictions, average='weighted')\n",
    "\n",
    "# Calculate specificity for each class\n",
    "specificity = []\n",
    "for i in range(conf_matrix.shape[0]):\n",
    "    tn = conf_matrix.sum() - (conf_matrix[i, :].sum() + conf_matrix[:, i].sum() - conf_matrix[i, i])\n",
    "    fp = conf_matrix[:, i].sum() - conf_matrix[i, i]\n",
    "    specificity.append(tn / (tn + fp))\n",
    "\n",
    "print(f'Confusion Matrix:\\n{conf_matrix}')\n",
    "print(f'F1 Score: {f1:.2f}')\n",
    "print(f'Precision: {precision:.2f}')\n",
    "print(f'Recall: {recall:.2f}')\n",
    "print(f'Specificity: {np.mean(specificity):.2f}')"
   ]
  },
  {
   "cell_type": "code",
   "execution_count": 101,
   "id": "8c87608a-0f4a-41b2-a451-49239f22d6b2",
   "metadata": {},
   "outputs": [
    {
     "data": {
      "image/png": "[encoded data removed]",
      "text/plain": [
       "<Figure size 1200x500 with 2 Axes>"
      ]
     },
     "metadata": {},
     "output_type": "display_data"
    }
   ],
   "source": [
    "# Plot the loss and accuracy\n",
    "plt.figure(figsize=(12, 5))\n",
    "\n",
    "# Plot loss\n",
    "plt.subplot(1, 2, 1)\n",
    "plt.plot(train_losses, label='Training Loss')\n",
    "plt.xlabel('Epoch')\n",
    "plt.ylabel('Loss')\n",
    "plt.title('Training Loss Over Epochs')\n",
    "plt.legend()\n",
    "\n",
    "# Plot accuracy\n",
    "plt.subplot(1, 2, 2)\n",
    "plt.plot(test_accuracies, label='Test Accuracy')\n",
    "plt.xlabel('Epoch')\n",
    "plt.ylabel('Accuracy (%)')\n",
    "plt.title('Test Accuracy Over Epochs')\n",
    "plt.legend()\n",
    "\n",
    "plt.show()"
   ]
  },
  {
   "cell_type": "code",
   "execution_count": null,
   "id": "135a6d73-6d99-4d7a-b819-a8876de23f9a",
   "metadata": {},
   "outputs": [],
   "source": []
  }
 ],
 "metadata": {
  "kernelspec": {
   "display_name": "Python 3 (ipykernel)",
   "language": "python",
   "name": "python3"
  },
  "language_info": {
   "codemirror_mode": {
    "name": "ipython",
    "version": 3
   },
   "file_extension": ".py",
   "mimetype": "text/x-python",
   "name": "python",
   "nbconvert_exporter": "python",
   "pygments_lexer": "ipython3",
   "version": "3.10.16"
  }
 },
 "nbformat": 4,
 "nbformat_minor": 5
}
