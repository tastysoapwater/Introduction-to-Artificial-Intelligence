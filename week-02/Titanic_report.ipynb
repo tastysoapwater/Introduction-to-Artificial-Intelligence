{
 "cells": [
  {
   "cell_type": "code",
   "execution_count": 1,
   "id": "9b321f8f-6fd0-46ea-96d5-03eda09d2d92",
   "metadata": {},
   "outputs": [],
   "source": [
    "import pandas as pd\n",
    "import numpy as np\n",
    "import matplotlib.pyplot as plt\n",
    "import seaborn as sns\n",
    "from sklearn.model_selection import train_test_split\n",
    "from sklearn.preprocessing import LabelEncoder\n",
    "from sklearn.impute import SimpleImputer\n",
    "from sklearn.ensemble import RandomForestClassifier\n",
    "from sklearn.tree import DecisionTreeClassifier\n",
    "from sklearn.linear_model import LogisticRegression\n",
    "from sklearn.neighbors import KNeighborsClassifier\n",
    "from sklearn.svm import SVC\n",
    "from sklearn.metrics import accuracy_score, confusion_matrix\n",
    "\n",
    "\n",
    "# 데이터 로드\n",
    "df = pd.read_csv(\"C:/Users/tisxo/Downloads/titanic.csv\")\n"
   ]
  },
  {
   "cell_type": "code",
   "execution_count": 2,
   "id": "22593fec-df2d-42f7-8dc7-214df08e7a5f",
   "metadata": {},
   "outputs": [
    {
     "name": "stdout",
     "output_type": "stream",
     "text": [
      "컬럼 확인: Index(['PassengerId', 'Survived', 'Pclass', 'Name', 'Sex', 'Age', 'SibSp',\n",
      "       'Parch', 'Ticket', 'Fare', 'Cabin', 'Embarked'],\n",
      "      dtype='object')\n"
     ]
    }
   ],
   "source": [
    "# 데이터 확인\n",
    "df\n",
    "print(\"컬럼 확인:\", df.columns)"
   ]
  },
  {
   "cell_type": "code",
   "execution_count": 3,
   "id": "2b6c0f5b-7401-4c26-9c5a-ba8e2d4569f6",
   "metadata": {},
   "outputs": [
    {
     "name": "stdout",
     "output_type": "stream",
     "text": [
      "결측치 확인 (제거 전):\n",
      "PassengerId      0\n",
      "Survived         0\n",
      "Pclass           0\n",
      "Name             0\n",
      "Sex              0\n",
      "Age            177\n",
      "SibSp            0\n",
      "Parch            0\n",
      "Ticket           0\n",
      "Fare             0\n",
      "Cabin          687\n",
      "Embarked         2\n",
      "dtype: int64\n"
     ]
    }
   ],
   "source": [
    "# 결측치 확인\n",
    "print(\"결측치 확인 (제거 전):\")\n",
    "print(df.isnull().sum())"
   ]
  },
  {
   "cell_type": "code",
   "execution_count": 7,
   "id": "13d2ca9e-02b9-49e7-aa1c-24dc88793328",
   "metadata": {},
   "outputs": [],
   "source": [
    "# 결측치 처리\n",
    "#   - age 컬럼의 평균값 계산 (결측치를 제외한 값으로 계산)\n",
    "mean_age = df['Age'].mean()\n",
    "#   - age 컬럼의 결측치를 평균값으로 채우기\n",
    "df['Age'] = df['Age'].fillna(mean_age)\n",
    "#   - 나머지 결측치는 제거\n",
    "df = df.dropna()"
   ]
  },
  {
   "cell_type": "code",
   "execution_count": 9,
   "id": "3060e570-539d-4042-a7d9-0c44718f293c",
   "metadata": {},
   "outputs": [
    {
     "name": "stdout",
     "output_type": "stream",
     "text": [
      "결측치 확인 (제거 후):\n",
      "PassengerId    0\n",
      "Survived       0\n",
      "Pclass         0\n",
      "Name           0\n",
      "Sex            0\n",
      "Age            0\n",
      "SibSp          0\n",
      "Parch          0\n",
      "Ticket         0\n",
      "Fare           0\n",
      "Cabin          0\n",
      "Embarked       0\n",
      "dtype: int64\n"
     ]
    }
   ],
   "source": [
    "print(\"결측치 확인 (제거 후):\")\n",
    "print(df.isnull().sum())"
   ]
  },
  {
   "cell_type": "code",
   "execution_count": 11,
   "id": "e6e486d0-0d90-443e-9c3d-988ac83eb2d8",
   "metadata": {},
   "outputs": [
    {
     "name": "stdout",
     "output_type": "stream",
     "text": [
      "Survived\n",
      "1    134\n",
      "0     68\n",
      "Name: count, dtype: int64\n"
     ]
    }
   ],
   "source": [
    "# 레이블 확인 (imbalanced data)\n",
    "print(df['Survived'].value_counts())"
   ]
  },
  {
   "cell_type": "code",
   "execution_count": 13,
   "id": "7dfe1889-7667-4804-82e6-c7fd41c1e37e",
   "metadata": {},
   "outputs": [
    {
     "data": {
      "text/plain": [
       "Text(0.5, 1.0, 'Label Distribution')"
      ]
     },
     "execution_count": 13,
     "metadata": {},
     "output_type": "execute_result"
    },
    {
     "data": {
      "image/png": "[encoded data removed]",
      "text/plain": [
       "<Figure size 600x400 with 1 Axes>"
      ]
     },
     "metadata": {},
     "output_type": "display_data"
    }
   ],
   "source": [
    "# 레이블 분포 시각화\n",
    "plt.figure(figsize=(6, 4))\n",
    "sns.countplot(data=df, x='Survived')  # survived 레이블 분포\n",
    "plt.xlabel(\"Survived (0: No, 1: Yes)\")\n",
    "plt.ylabel(\"Count\")\n",
    "plt.title(\"Label Distribution\")"
   ]
  },
  {
   "cell_type": "code",
   "execution_count": 15,
   "id": "0735e77e-207d-4a97-bef4-0934e92d1a2d",
   "metadata": {},
   "outputs": [],
   "source": [
    "# 삭제할 컬럼 리스트\n",
    "columns_to_delete = ['PassengerId', 'Name', 'Ticket', 'Cabin', 'Embarked', 'Fare']"
   ]
  },
  {
   "cell_type": "code",
   "execution_count": 17,
   "id": "98c4551b-887a-40c7-97cb-559a1efd9f43",
   "metadata": {},
   "outputs": [],
   "source": [
    "# 특정 컬럼만 삭제\n",
    "df = df.drop(columns=columns_to_delete)"
   ]
  },
  {
   "cell_type": "code",
   "execution_count": 19,
   "id": "e5386d2b-c1cd-4586-8a3b-14f487d0c48d",
   "metadata": {},
   "outputs": [
    {
     "name": "stdout",
     "output_type": "stream",
     "text": [
      "컬럼 확인: Index(['Survived', 'Pclass', 'Sex', 'Age', 'SibSp', 'Parch'], dtype='object')\n"
     ]
    }
   ],
   "source": [
    "# 삭제후 컬럼 확인\n",
    "print(\"컬럼 확인:\", df.columns)"
   ]
  },
  {
   "cell_type": "code",
   "execution_count": 27,
   "id": "7976e58b-2646-4398-b1c3-fa1bd3cf81cd",
   "metadata": {},
   "outputs": [
    {
     "name": "stdout",
     "output_type": "stream",
     "text": [
      "Sex 레이블 분포 (변환 전):\n",
      "Sex\n",
      "male      107\n",
      "female     95\n",
      "Name: count, dtype: int64\n",
      "['female' 'male']\n"
     ]
    }
   ],
   "source": [
    "# 레이블 확인 (imbalanced data) - 변환 전\n",
    "print(\"Sex 레이블 분포 (변환 전):\")\n",
    "print(df['Sex'].value_counts())\n",
    "print(df['Sex'].unique()) "
   ]
  },
  {
   "cell_type": "code",
   "execution_count": 29,
   "id": "85ba82e5-7605-4703-a2a2-6f5548be750d",
   "metadata": {},
   "outputs": [
    {
     "name": "stdout",
     "output_type": "stream",
     "text": [
      "     Survived  Pclass  Sex   Age  SibSp  Parch\n",
      "1           1       1    0  38.0      1      0\n",
      "3           1       1    0  35.0      1      0\n",
      "6           0       1    1  54.0      0      0\n",
      "10          1       3    0   4.0      1      1\n",
      "11          1       1    0  58.0      0      0\n",
      "..        ...     ...  ...   ...    ...    ...\n",
      "871         1       1    0  47.0      1      1\n",
      "872         0       1    1  33.0      0      0\n",
      "879         1       1    0  56.0      0      1\n",
      "887         1       1    0  19.0      0      0\n",
      "889         1       1    1  26.0      0      0\n",
      "\n",
      "[202 rows x 6 columns]\n"
     ]
    }
   ],
   "source": [
    "# 특정 컬럼만 인코딩\n",
    "label_encoder = LabelEncoder()\n",
    "columns_to_encode = ['Sex']  # 인코딩할 컬럼 리스트\n",
    "\n",
    "for column in columns_to_encode:\n",
    "    if column in df.columns:\n",
    "        df[column] = label_encoder.fit_transform(df[column])\n",
    "print(df)"
   ]
  },
  {
   "cell_type": "code",
   "execution_count": 31,
   "id": "509c6840-6213-4319-94fc-0dad5cb99e66",
   "metadata": {},
   "outputs": [
    {
     "name": "stdout",
     "output_type": "stream",
     "text": [
      "Sex 레이블 분포 (변환 후):\n",
      "Sex\n",
      "1    107\n",
      "0     95\n",
      "Name: count, dtype: int64\n",
      "[0 1]\n"
     ]
    }
   ],
   "source": [
    "# 레이블 확인 (imbalanced data) - 변환 후\n",
    "print(\"Sex 레이블 분포 (변환 후):\")\n",
    "print(df['Sex'].value_counts())\n",
    "print(df['Sex'].unique()) "
   ]
  },
  {
   "cell_type": "code",
   "execution_count": 49,
   "id": "af75d7b8-9e0b-41c9-b485-9d3601ab831f",
   "metadata": {},
   "outputs": [],
   "source": [
    "# 데이터 분할\n",
    "X = df.drop('Survived', axis=1)\n",
    "y = df['Survived']\n",
    "X_train, X_test, y_train, y_test = train_test_split(X, y, test_size=0.2, random_state=42)"
   ]
  },
  {
   "cell_type": "code",
   "execution_count": 51,
   "id": "9fe07620-c506-4938-8acf-2005ca6860ef",
   "metadata": {},
   "outputs": [
    {
     "name": "stdout",
     "output_type": "stream",
     "text": [
      "\n",
      "--- SVM Classifier ---\n",
      "0.8048780487804879\n",
      "[[ 1  7]\n",
      " [ 1 32]]\n"
     ]
    }
   ],
   "source": [
    "# SVM\n",
    "clf_svm = SVC(random_state=0)\n",
    "clf_svm.fit(X_train, y_train)\n",
    "\n",
    "pred_svm = clf_svm.predict(X_test)\n",
    "\n",
    "print(\"\\n--- SVM Classifier ---\")\n",
    "print(accuracy_score(y_test, pred_svm))\n",
    "print(confusion_matrix(y_test, pred_svm))"
   ]
  },
  {
   "cell_type": "code",
   "execution_count": 53,
   "id": "13e00ab1-aec4-46d4-83bb-dc4f97252602",
   "metadata": {},
   "outputs": [
    {
     "name": "stdout",
     "output_type": "stream",
     "text": [
      "\n",
      "--- Logistic Regression Classifier ---\n",
      "0.8048780487804879\n",
      "[[ 4  4]\n",
      " [ 4 29]]\n"
     ]
    }
   ],
   "source": [
    "# LR\n",
    "clf_lr = LogisticRegression(random_state=0)\n",
    "clf_lr.fit(X_train, y_train)\n",
    "\n",
    "pred_lr = clf_lr.predict(X_test)\n",
    "\n",
    "print (\"\\n--- Logistic Regression Classifier ---\")\n",
    "print (accuracy_score(y_test, pred_lr))\n",
    "print (confusion_matrix(y_test, pred_lr))"
   ]
  },
  {
   "cell_type": "code",
   "execution_count": 57,
   "id": "fb74c908-0c79-4baf-a248-5a6326779915",
   "metadata": {},
   "outputs": [
    {
     "name": "stdout",
     "output_type": "stream",
     "text": [
      "\n",
      "--- Decision Tree Classifier ---\n",
      "0.8780487804878049\n",
      "[[ 7  1]\n",
      " [ 4 29]]\n"
     ]
    }
   ],
   "source": [
    "#DT\n",
    "clf_dt = DecisionTreeClassifier(random_state=0)\n",
    "clf_dt.fit(X_train, y_train)\n",
    "\n",
    "pred_dt = clf_dt.predict(X_test)\n",
    "\n",
    "print (\"\\n--- Decision Tree Classifier ---\")\n",
    "print (accuracy_score(y_test, pred_dt))\n",
    "print (confusion_matrix(y_test, pred_dt))"
   ]
  },
  {
   "cell_type": "code",
   "execution_count": 59,
   "id": "c5e01e18-aa93-462d-8f80-466ae0922f43",
   "metadata": {},
   "outputs": [
    {
     "name": "stdout",
     "output_type": "stream",
     "text": [
      "\n",
      "--- Radom Forest ---\n",
      "0.8536585365853658\n",
      "[[ 7  1]\n",
      " [ 5 28]]\n"
     ]
    }
   ],
   "source": [
    "# RF\n",
    "print (\"\\n--- Radom Forest ---\")\n",
    "rf_clf = RandomForestClassifier(random_state=0)\n",
    "rf_clf.fit(X_train, y_train)\n",
    "pred = rf_clf.predict(X_test)\n",
    "print(accuracy_score(y_test,pred))\n",
    "print (confusion_matrix(y_test, pred))"
   ]
  },
  {
   "cell_type": "code",
   "execution_count": 63,
   "id": "216cde74-c976-41d2-b699-d304d277734a",
   "metadata": {},
   "outputs": [
    {
     "name": "stdout",
     "output_type": "stream",
     "text": [
      "\n",
      "--- K-Nearest Neighbors Classifier ---\n",
      "0.8780487804878049\n",
      "[[ 6  2]\n",
      " [ 3 30]]\n"
     ]
    }
   ],
   "source": [
    "# KNN\n",
    "clf_knn = KNeighborsClassifier()\n",
    "clf_knn.fit(X_train, y_train)\n",
    "pred_knn = clf_knn.predict(X_test)\n",
    "\n",
    "print(\"\\n--- K-Nearest Neighbors Classifier ---\")\n",
    "print(accuracy_score(y_test, pred_knn))\n",
    "print(confusion_matrix(y_test, pred_knn))"
   ]
  },
  {
   "cell_type": "code",
   "execution_count": null,
   "id": "77733882-de27-4d50-98e2-1bff63b61baa",
   "metadata": {},
   "outputs": [],
   "source": []
  }
 ],
 "metadata": {
  "kernelspec": {
   "display_name": "Python [conda env:base] *",
   "language": "python",
   "name": "conda-base-py"
  },
  "language_info": {
   "codemirror_mode": {
    "name": "ipython",
    "version": 3
   },
   "file_extension": ".py",
   "mimetype": "text/x-python",
   "name": "python",
   "nbconvert_exporter": "python",
   "pygments_lexer": "ipython3",
   "version": "3.12.7"
  }
 },
 "nbformat": 4,
 "nbformat_minor": 5
}
