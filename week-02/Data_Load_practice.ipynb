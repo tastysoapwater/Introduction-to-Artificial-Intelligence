{
 "cells": [
  {
   "cell_type": "code",
   "execution_count": 2,
   "id": "f8b14ef3-2503-413e-86f9-01c2ffd6b86b",
   "metadata": {},
   "outputs": [
    {
     "name": "stdout",
     "output_type": "stream",
     "text": [
      "   Num.  subject_ID Sex(M/F)  Age(year)  Height(cm)  Weight(kg)  \\\n",
      "0     1           2   Female         45         152          63   \n",
      "1     1           2   Female         45         152          63   \n",
      "2     1           2   Female         45         152          63   \n",
      "3     2           3   Female         50         157          50   \n",
      "4     2           3   Female         50         157          50   \n",
      "\n",
      "   Systolic Blood Pressure(mmHg)  Diastolic Blood Pressure(mmHg)  \\\n",
      "0                            161                              89   \n",
      "1                            161                              89   \n",
      "2                            161                              89   \n",
      "3                            160                              93   \n",
      "4                            160                              93   \n",
      "\n",
      "   Heart Rate(b/m)  BMI(kg/m^2)  ...  2091  2092  2093  2094  2095  2096  \\\n",
      "0               97    27.268006  ...  1766  1766  1766  1833  1833  1827   \n",
      "1               97    27.268006  ...  1985  1985  2026  2026  2026  1977   \n",
      "2               97    27.268006  ...  1942  1900  1900  1938  1938  1938   \n",
      "3               76    20.284799  ...  2073  2072  2072  2072  2051  2051   \n",
      "4               76    20.284799  ...  2021  2010  2010  2010  2001  2001   \n",
      "\n",
      "   2097  2098  2099  2100  \n",
      "0  1827  1827  1754  1754  \n",
      "1  1977  1997  1997  1997  \n",
      "2  1924  1924  1929  1929  \n",
      "3  2036  2036  2036  2045  \n",
      "4  2003  2003  2003  1989  \n",
      "\n",
      "[5 rows x 2114 columns]\n"
     ]
    }
   ],
   "source": [
    "import pandas as pd\n",
    "import requests\n",
    "from io import BytesIO\n",
    "\n",
    "url = \"https://raw.githubusercontent.com/MyungKyuYi/AI-class/main/combined_dataset-1.xlsx\" \n",
    "response = requests.get(url)\n",
    "\n",
    "df = pd.read_excel(BytesIO(response.content), engine=\"openpyxl\")  # 바이너리 데이터를 판다스로 변환\n",
    "print(df.head())"
   ]
  },
  {
   "cell_type": "code",
   "execution_count": 4,
   "id": "5d87c307-f61c-4386-806a-4c002e949889",
   "metadata": {},
   "outputs": [
    {
     "name": "stdout",
     "output_type": "stream",
     "text": [
      "   Num.  subject_ID Sex(M/F)  Age(year)  Height(cm)  Weight(kg)  \\\n",
      "0     1           2   Female         45         152          63   \n",
      "1     1           2   Female         45         152          63   \n",
      "2     1           2   Female         45         152          63   \n",
      "3     2           3   Female         50         157          50   \n",
      "4     2           3   Female         50         157          50   \n",
      "\n",
      "   Systolic Blood Pressure(mmHg)  Diastolic Blood Pressure(mmHg)  \\\n",
      "0                            161                              89   \n",
      "1                            161                              89   \n",
      "2                            161                              89   \n",
      "3                            160                              93   \n",
      "4                            160                              93   \n",
      "\n",
      "   Heart Rate(b/m)  BMI(kg/m^2)  ...  2091  2092  2093  2094  2095  2096  \\\n",
      "0               97    27.268006  ...  1766  1766  1766  1833  1833  1827   \n",
      "1               97    27.268006  ...  1985  1985  2026  2026  2026  1977   \n",
      "2               97    27.268006  ...  1942  1900  1900  1938  1938  1938   \n",
      "3               76    20.284799  ...  2073  2072  2072  2072  2051  2051   \n",
      "4               76    20.284799  ...  2021  2010  2010  2010  2001  2001   \n",
      "\n",
      "   2097  2098  2099  2100  \n",
      "0  1827  1827  1754  1754  \n",
      "1  1977  1997  1997  1997  \n",
      "2  1924  1924  1929  1929  \n",
      "3  2036  2036  2036  2045  \n",
      "4  2003  2003  2003  1989  \n",
      "\n",
      "[5 rows x 2114 columns]\n"
     ]
    }
   ],
   "source": [
    "import pandas as pd\n",
    "\n",
    "file_path = r\"C:/Users/tisxo/Downloads/combined_dataset-1.xlsx\"  # Windows 경로 (raw 문자열 사용)\n",
    "df = pd.read_excel(file_path, engine=\"openpyxl\")  # openpyxl 사용 (XLSX 지원)\n",
    "\n",
    "print(df.head())  # 상위 5개 데이터 출력"
   ]
  },
  {
   "cell_type": "code",
   "execution_count": 6,
   "id": "5e956905-0f17-4835-9a2e-b7f9c8f9ba94",
   "metadata": {},
   "outputs": [
    {
     "name": "stdout",
     "output_type": "stream",
     "text": [
      "   battery_power  blue  clock_speed  dual_sim  fc  four_g  int_memory  m_dep  \\\n",
      "0            842     0          2.2         0   1       0           7    0.6   \n",
      "1           1021     1          0.5         1   0       1          53    0.7   \n",
      "2            563     1          0.5         1   2       1          41    0.9   \n",
      "3            615     1          2.5         0   0       0          10    0.8   \n",
      "4           1821     1          1.2         0  13       1          44    0.6   \n",
      "\n",
      "   mobile_wt  n_cores  ...  px_height  px_width   ram  sc_h  sc_w  talk_time  \\\n",
      "0        188        2  ...         20       756  2549     9     7         19   \n",
      "1        136        3  ...        905      1988  2631    17     3          7   \n",
      "2        145        5  ...       1263      1716  2603    11     2          9   \n",
      "3        131        6  ...       1216      1786  2769    16     8         11   \n",
      "4        141        2  ...       1208      1212  1411     8     2         15   \n",
      "\n",
      "   three_g  touch_screen  wifi  price_range  \n",
      "0        0             0     1            1  \n",
      "1        1             1     0            2  \n",
      "2        1             1     0            2  \n",
      "3        1             0     0            2  \n",
      "4        1             1     0            1  \n",
      "\n",
      "[5 rows x 21 columns]\n"
     ]
    }
   ],
   "source": [
    "import pandas as pd\n",
    "\n",
    "file_path = r\"C:/Users/tisxo/Downloads/mobile.csv\"  # Windows 파일 경로\n",
    "df = pd.read_csv(file_path, encoding=\"utf-8\")  # 한글 파일일 경우 utf-8 or cp949\n",
    "\n",
    "print(df.head())  # 상위 5개 데이터 출력"
   ]
  },
  {
   "cell_type": "code",
   "execution_count": null,
   "id": "496e6a77-4eec-4655-a115-95d45066864a",
   "metadata": {},
   "outputs": [],
   "source": []
  }
 ],
 "metadata": {
  "kernelspec": {
   "display_name": "Python [conda env:base] *",
   "language": "python",
   "name": "conda-base-py"
  },
  "language_info": {
   "codemirror_mode": {
    "name": "ipython",
    "version": 3
   },
   "file_extension": ".py",
   "mimetype": "text/x-python",
   "name": "python",
   "nbconvert_exporter": "python",
   "pygments_lexer": "ipython3",
   "version": "3.12.7"
  }
 },
 "nbformat": 4,
 "nbformat_minor": 5
}
